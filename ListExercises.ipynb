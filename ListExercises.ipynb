{
 "cells": [
  {
   "cell_type": "code",
   "execution_count": 149,
   "metadata": {
    "collapsed": false
   },
   "outputs": [],
   "source": [
    "def match_ends(words):\n",
    "    l = [s for s in words if len(s) >= 2 and s[0] == s[-1]]\n",
    "    return len(l)"
   ]
  },
  {
   "cell_type": "code",
   "execution_count": 150,
   "metadata": {
    "collapsed": false
   },
   "outputs": [],
   "source": [
    "def front_x(words):\n",
    "    x = [s for s in words if s[0] == \"x\"]\n",
    "    r = [s for s in words if s[0] != \"x\"]\n",
    "    c = sorted(x)+sorted(r)\n",
    "    return c"
   ]
  },
  {
   "cell_type": "code",
   "execution_count": 151,
   "metadata": {
    "collapsed": false
   },
   "outputs": [
    {
     "name": "stdout",
     "output_type": "stream",
     "text": [
      "[(2, 2), (1, 3), (3, 4, 5), (1, 7)]\n"
     ]
    }
   ],
   "source": [
    "def sort_last(tuples):\n",
    "    s = sorted(tuples, key=(lambda x: x[-1]))\n",
    "    return s\n",
    "\n",
    "y = [(1, 7), (1, 3), (3, 4, 5), (2, 2)] \n",
    "print(sort_last(y))"
   ]
  },
  {
   "cell_type": "code",
   "execution_count": 152,
   "metadata": {
    "collapsed": false
   },
   "outputs": [
    {
     "name": "stdout",
     "output_type": "stream",
     "text": [
      "match_ends\n",
      " OK got: 3 expected: 3\n",
      " OK got: 2 expected: 2\n",
      " OK got: 1 expected: 1\n",
      "\n",
      "front_x\n",
      " OK got: ['xaa', 'xzz', 'axx', 'bbb', 'ccc'] expected: ['xaa', 'xzz', 'axx', 'bbb', 'ccc']\n",
      " OK got: ['xaa', 'xcc', 'aaa', 'bbb', 'ccc'] expected: ['xaa', 'xcc', 'aaa', 'bbb', 'ccc']\n",
      " OK got: ['xanadu', 'xyz', 'aardvark', 'apple', 'mix'] expected: ['xanadu', 'xyz', 'aardvark', 'apple', 'mix']\n"
     ]
    }
   ],
   "source": [
    "def test(got, expected):\n",
    "    prefix = 'OK' if got == expected else ' X'\n",
    "    # !r prints a Python representation of the strings (complete with quotes)\n",
    "    print ' {} got: {!r} expected: {!r}'.format(prefix, got, expected)\n",
    "    \n",
    "def main():\n",
    "    print 'match_ends'\n",
    "    test(match_ends(['aba', 'xyz', 'aa', 'x', 'bbb']), 3)\n",
    "    test(match_ends(['', 'x', 'xy', 'xyx', 'xx']), 2)\n",
    "    test(match_ends(['aaa', 'be', 'abc', 'hello']), 1)\n",
    "\n",
    "    print\n",
    "    print 'front_x'\n",
    "    test(front_x(['bbb', 'ccc', 'axx', 'xzz', 'xaa']),\n",
    "        ['xaa', 'xzz', 'axx', 'bbb', 'ccc'])\n",
    "    test(front_x(['ccc', 'bbb', 'aaa', 'xcc', 'xaa']),\n",
    "        ['xaa', 'xcc', 'aaa', 'bbb', 'ccc'])\n",
    "    test(front_x(['mix', 'xyz', 'apple', 'xanadu', 'aardvark']),\n",
    "        ['xanadu', 'xyz', 'aardvark', 'apple', 'mix'])\n",
    "    \n",
    "main()"
   ]
  },
  {
   "cell_type": "code",
   "execution_count": 153,
   "metadata": {
    "collapsed": false
   },
   "outputs": [],
   "source": [
    "def remove_adjacent(nums):\n",
    "    v=[]\n",
    "    for i in xrange(len(nums)-1):\n",
    "        if nums[i] == nums[i+1]:\n",
    "            v.append(i)\n",
    "    for a in reversed(v):\n",
    "        nums.pop(a)\n",
    "    return nums"
   ]
  },
  {
   "cell_type": "code",
   "execution_count": 154,
   "metadata": {
    "collapsed": false
   },
   "outputs": [],
   "source": [
    "def linear_merge(list1, list2):\n",
    "    s = sorted(list1+list2)\n",
    "    return s"
   ]
  },
  {
   "cell_type": "code",
   "execution_count": 155,
   "metadata": {
    "collapsed": false
   },
   "outputs": [
    {
     "name": "stdout",
     "output_type": "stream",
     "text": [
      "remove_adjacent\n",
      " OK got: [1, 2, 3] expected: [1, 2, 3]\n",
      " OK got: [2, 3] expected: [2, 3]\n",
      " OK got: [] expected: []\n",
      "\n",
      "linear_merge\n",
      " OK got: ['aa', 'bb', 'cc', 'xx', 'zz'] expected: ['aa', 'bb', 'cc', 'xx', 'zz']\n",
      " OK got: ['aa', 'bb', 'cc', 'xx', 'zz'] expected: ['aa', 'bb', 'cc', 'xx', 'zz']\n",
      " OK got: ['aa', 'aa', 'aa', 'bb', 'bb'] expected: ['aa', 'aa', 'aa', 'bb', 'bb']\n"
     ]
    }
   ],
   "source": [
    "def main():\n",
    "    print 'remove_adjacent'\n",
    "    test(remove_adjacent([1, 2, 2, 3]), [1, 2, 3])\n",
    "    test(remove_adjacent([2, 2, 3, 3, 3]), [2, 3])\n",
    "    test(remove_adjacent([]), [])\n",
    "\n",
    "    print\n",
    "    print 'linear_merge'\n",
    "    test(linear_merge(['aa', 'xx', 'zz'], ['bb', 'cc']),\n",
    "        ['aa', 'bb', 'cc', 'xx', 'zz'])\n",
    "    test(linear_merge(['aa', 'xx'], ['bb', 'cc', 'zz']),\n",
    "        ['aa', 'bb', 'cc', 'xx', 'zz'])\n",
    "    test(linear_merge(['aa', 'aa'], ['aa', 'bb', 'bb']),\n",
    "        ['aa', 'aa', 'aa', 'bb', 'bb'])\n",
    "\n",
    "main()"
   ]
  }
 ],
 "metadata": {
  "kernelspec": {
   "display_name": "Python 2",
   "language": "python",
   "name": "python2"
  },
  "language_info": {
   "codemirror_mode": {
    "name": "ipython",
    "version": 2
   },
   "file_extension": ".py",
   "mimetype": "text/x-python",
   "name": "python",
   "nbconvert_exporter": "python",
   "pygments_lexer": "ipython2",
   "version": "2.7.10"
  }
 },
 "nbformat": 4,
 "nbformat_minor": 0
}
